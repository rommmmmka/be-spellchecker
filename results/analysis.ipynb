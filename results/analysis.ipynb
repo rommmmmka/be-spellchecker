{
 "cells": [
  {
   "cell_type": "code",
   "execution_count": 6,
   "id": "initial_id",
   "metadata": {
    "collapsed": true,
    "ExecuteTime": {
     "end_time": "2024-05-15T15:50:03.952424600Z",
     "start_time": "2024-05-15T15:50:03.917589400Z"
    }
   },
   "outputs": [],
   "source": [
    "import pandas as pd\n",
    "import stanza"
   ]
  },
  {
   "cell_type": "code",
   "execution_count": 7,
   "outputs": [
    {
     "name": "stderr",
     "output_type": "stream",
     "text": [
      "2024-05-15 18:50:03 INFO: Loading these models for language: be (Belarusian):\n",
      "=======================\n",
      "| Processor | Package |\n",
      "-----------------------\n",
      "| tokenize  | hse     |\n",
      "=======================\n",
      "\n",
      "2024-05-15 18:50:03 INFO: Using device: cpu\n",
      "2024-05-15 18:50:03 INFO: Loading: tokenize\n",
      "2024-05-15 18:50:03 INFO: Done loading processors!\n"
     ]
    }
   ],
   "source": [
    "stanza_tokenizer = stanza.Pipeline(\n",
    "    lang=\"be\",\n",
    "    model_dir=\"../temp/stanza\",\n",
    "    processors=\"tokenize\",\n",
    "    download_method=stanza.DownloadMethod.REUSE_RESOURCES,\n",
    ")"
   ],
   "metadata": {
    "collapsed": false,
    "ExecuteTime": {
     "end_time": "2024-05-15T15:50:04.022373100Z",
     "start_time": "2024-05-15T15:50:03.927725500Z"
    }
   },
   "id": "783e6ac37ac89a2a"
  },
  {
   "cell_type": "code",
   "execution_count": 8,
   "outputs": [],
   "source": [
    "def get_total_words_with_errors(doc_orig, doc_with_errors) -> tuple[int, int]:\n",
    "    total_words_with_errors = 0\n",
    "    for word_orig, word_with_errors in zip(\n",
    "            doc_orig.iter_words(), doc_with_errors.iter_words()\n",
    "    ):\n",
    "        if word_orig.text != word_with_errors.text:\n",
    "            total_words_with_errors += 1\n",
    "    return total_words_with_errors"
   ],
   "metadata": {
    "collapsed": false,
    "ExecuteTime": {
     "end_time": "2024-05-15T15:50:04.024371800Z",
     "start_time": "2024-05-15T15:50:03.988904Z"
    }
   },
   "id": "72e23934a1a1be16"
  },
  {
   "cell_type": "code",
   "execution_count": 9,
   "outputs": [],
   "source": [
    "def compare_docs(doc_orig, doc_with_errors, doc_after_correction) -> dict:\n",
    "    has_errors_fixed_correctly = 0\n",
    "    has_errors_fixed_incorrectly = 0\n",
    "    has_errors_not_fixed = 0\n",
    "    has_no_errors_fixed_incorrectly = 0\n",
    "\n",
    "    for word_orig, word_with_errors, word_after_correction in zip(\n",
    "            doc_orig.iter_words(), doc_with_errors.iter_words(), doc_after_correction.iter_words()\n",
    "    ):\n",
    "        if word_orig.text == word_with_errors.text:\n",
    "            if word_orig.text != word_after_correction.text:\n",
    "                has_no_errors_fixed_incorrectly += 1\n",
    "        else:\n",
    "            if word_orig.text == word_after_correction.text:\n",
    "                has_errors_fixed_correctly += 1\n",
    "            elif word_with_errors.text == word_after_correction.text:\n",
    "                # print(word_orig.text, word_after_correction.text)\n",
    "                has_errors_not_fixed += 1\n",
    "            else:\n",
    "                has_errors_fixed_incorrectly += 1\n",
    "\n",
    "    return {\n",
    "        \"Words with errors, fixed correctly\": has_errors_fixed_correctly,\n",
    "        \"Words with errors, fixed incorrectly\": has_errors_fixed_incorrectly,\n",
    "        \"Words with errors, not fixed\": has_errors_not_fixed,\n",
    "        \"Words with no errors, mistakenly \\\"fixed\\\"\": has_no_errors_fixed_incorrectly,\n",
    "    }"
   ],
   "metadata": {
    "collapsed": false,
    "ExecuteTime": {
     "end_time": "2024-05-15T15:50:04.031371900Z",
     "start_time": "2024-05-15T15:50:04.006738Z"
    }
   },
   "id": "d1e1ec81b7cf52c6"
  },
  {
   "cell_type": "code",
   "execution_count": 10,
   "outputs": [
    {
     "name": "stdout",
     "output_type": "stream",
     "text": [
      "----------\n",
      "Text 1\n",
      "Total words: 1186\n",
      "Total words with errors: 265\n",
      "Damerau-Levenshtein:\n"
     ]
    },
    {
     "data": {
      "text/plain": "                                            1    2    3    4    5\nWords with errors, fixed correctly        150  163  164  164  164\nWords with errors, fixed incorrectly       73   89   89   89   89\nWords with errors, not fixed               42   13   12   12   12\nWords with no errors, mistakenly \"fixed\"   21   24   29   29   29",
      "text/html": "<div>\n<style scoped>\n    .dataframe tbody tr th:only-of-type {\n        vertical-align: middle;\n    }\n\n    .dataframe tbody tr th {\n        vertical-align: top;\n    }\n\n    .dataframe thead th {\n        text-align: right;\n    }\n</style>\n<table border=\"1\" class=\"dataframe\">\n  <thead>\n    <tr style=\"text-align: right;\">\n      <th></th>\n      <th>1</th>\n      <th>2</th>\n      <th>3</th>\n      <th>4</th>\n      <th>5</th>\n    </tr>\n  </thead>\n  <tbody>\n    <tr>\n      <th>Words with errors, fixed correctly</th>\n      <td>150</td>\n      <td>163</td>\n      <td>164</td>\n      <td>164</td>\n      <td>164</td>\n    </tr>\n    <tr>\n      <th>Words with errors, fixed incorrectly</th>\n      <td>73</td>\n      <td>89</td>\n      <td>89</td>\n      <td>89</td>\n      <td>89</td>\n    </tr>\n    <tr>\n      <th>Words with errors, not fixed</th>\n      <td>42</td>\n      <td>13</td>\n      <td>12</td>\n      <td>12</td>\n      <td>12</td>\n    </tr>\n    <tr>\n      <th>Words with no errors, mistakenly \"fixed\"</th>\n      <td>21</td>\n      <td>24</td>\n      <td>29</td>\n      <td>29</td>\n      <td>29</td>\n    </tr>\n  </tbody>\n</table>\n</div>"
     },
     "metadata": {},
     "output_type": "display_data"
    },
    {
     "name": "stdout",
     "output_type": "stream",
     "text": [
      "Jaro-Winkler:\n"
     ]
    },
    {
     "data": {
      "text/plain": "                                          0.95  0.90  0.85  0.80  0.75\nWords with errors, fixed correctly         136   162   163   163   163\nWords with errors, fixed incorrectly        57    83    90    90    90\nWords with errors, not fixed                72    20    12    12    12\nWords with no errors, mistakenly \"fixed\"    21    27    28    29    29",
      "text/html": "<div>\n<style scoped>\n    .dataframe tbody tr th:only-of-type {\n        vertical-align: middle;\n    }\n\n    .dataframe tbody tr th {\n        vertical-align: top;\n    }\n\n    .dataframe thead th {\n        text-align: right;\n    }\n</style>\n<table border=\"1\" class=\"dataframe\">\n  <thead>\n    <tr style=\"text-align: right;\">\n      <th></th>\n      <th>0.95</th>\n      <th>0.90</th>\n      <th>0.85</th>\n      <th>0.80</th>\n      <th>0.75</th>\n    </tr>\n  </thead>\n  <tbody>\n    <tr>\n      <th>Words with errors, fixed correctly</th>\n      <td>136</td>\n      <td>162</td>\n      <td>163</td>\n      <td>163</td>\n      <td>163</td>\n    </tr>\n    <tr>\n      <th>Words with errors, fixed incorrectly</th>\n      <td>57</td>\n      <td>83</td>\n      <td>90</td>\n      <td>90</td>\n      <td>90</td>\n    </tr>\n    <tr>\n      <th>Words with errors, not fixed</th>\n      <td>72</td>\n      <td>20</td>\n      <td>12</td>\n      <td>12</td>\n      <td>12</td>\n    </tr>\n    <tr>\n      <th>Words with no errors, mistakenly \"fixed\"</th>\n      <td>21</td>\n      <td>27</td>\n      <td>28</td>\n      <td>29</td>\n      <td>29</td>\n    </tr>\n  </tbody>\n</table>\n</div>"
     },
     "metadata": {},
     "output_type": "display_data"
    },
    {
     "name": "stdout",
     "output_type": "stream",
     "text": [
      "----------\n",
      "Text 2\n",
      "Total words: 1217\n",
      "Total words with errors: 227\n",
      "Damerau-Levenshtein:\n"
     ]
    },
    {
     "data": {
      "text/plain": "                                            1    2    3    4    5\nWords with errors, fixed correctly        124  141  141  141  141\nWords with errors, fixed incorrectly       63   75   76   76   76\nWords with errors, not fixed               40   11   10   10   10\nWords with no errors, mistakenly \"fixed\"   21   29   29   29   29",
      "text/html": "<div>\n<style scoped>\n    .dataframe tbody tr th:only-of-type {\n        vertical-align: middle;\n    }\n\n    .dataframe tbody tr th {\n        vertical-align: top;\n    }\n\n    .dataframe thead th {\n        text-align: right;\n    }\n</style>\n<table border=\"1\" class=\"dataframe\">\n  <thead>\n    <tr style=\"text-align: right;\">\n      <th></th>\n      <th>1</th>\n      <th>2</th>\n      <th>3</th>\n      <th>4</th>\n      <th>5</th>\n    </tr>\n  </thead>\n  <tbody>\n    <tr>\n      <th>Words with errors, fixed correctly</th>\n      <td>124</td>\n      <td>141</td>\n      <td>141</td>\n      <td>141</td>\n      <td>141</td>\n    </tr>\n    <tr>\n      <th>Words with errors, fixed incorrectly</th>\n      <td>63</td>\n      <td>75</td>\n      <td>76</td>\n      <td>76</td>\n      <td>76</td>\n    </tr>\n    <tr>\n      <th>Words with errors, not fixed</th>\n      <td>40</td>\n      <td>11</td>\n      <td>10</td>\n      <td>10</td>\n      <td>10</td>\n    </tr>\n    <tr>\n      <th>Words with no errors, mistakenly \"fixed\"</th>\n      <td>21</td>\n      <td>29</td>\n      <td>29</td>\n      <td>29</td>\n      <td>29</td>\n    </tr>\n  </tbody>\n</table>\n</div>"
     },
     "metadata": {},
     "output_type": "display_data"
    },
    {
     "name": "stdout",
     "output_type": "stream",
     "text": [
      "Jaro-Winkler:\n"
     ]
    },
    {
     "data": {
      "text/plain": "                                          0.95  0.90  0.85  0.80  0.75\nWords with errors, fixed correctly         106   140   142   142   142\nWords with errors, fixed incorrectly        44    72    75    75    75\nWords with errors, not fixed                77    15    10    10    10\nWords with no errors, mistakenly \"fixed\"    10    26    27    29    29",
      "text/html": "<div>\n<style scoped>\n    .dataframe tbody tr th:only-of-type {\n        vertical-align: middle;\n    }\n\n    .dataframe tbody tr th {\n        vertical-align: top;\n    }\n\n    .dataframe thead th {\n        text-align: right;\n    }\n</style>\n<table border=\"1\" class=\"dataframe\">\n  <thead>\n    <tr style=\"text-align: right;\">\n      <th></th>\n      <th>0.95</th>\n      <th>0.90</th>\n      <th>0.85</th>\n      <th>0.80</th>\n      <th>0.75</th>\n    </tr>\n  </thead>\n  <tbody>\n    <tr>\n      <th>Words with errors, fixed correctly</th>\n      <td>106</td>\n      <td>140</td>\n      <td>142</td>\n      <td>142</td>\n      <td>142</td>\n    </tr>\n    <tr>\n      <th>Words with errors, fixed incorrectly</th>\n      <td>44</td>\n      <td>72</td>\n      <td>75</td>\n      <td>75</td>\n      <td>75</td>\n    </tr>\n    <tr>\n      <th>Words with errors, not fixed</th>\n      <td>77</td>\n      <td>15</td>\n      <td>10</td>\n      <td>10</td>\n      <td>10</td>\n    </tr>\n    <tr>\n      <th>Words with no errors, mistakenly \"fixed\"</th>\n      <td>10</td>\n      <td>26</td>\n      <td>27</td>\n      <td>29</td>\n      <td>29</td>\n    </tr>\n  </tbody>\n</table>\n</div>"
     },
     "metadata": {},
     "output_type": "display_data"
    },
    {
     "name": "stdout",
     "output_type": "stream",
     "text": [
      "----------\n",
      "Text 3\n",
      "Total words: 1078\n",
      "Total words with errors: 214\n",
      "Damerau-Levenshtein:\n"
     ]
    },
    {
     "data": {
      "text/plain": "                                            1    2    3    4    5\nWords with errors, fixed correctly        121  131  131  131  131\nWords with errors, fixed incorrectly       57   67   67   67   67\nWords with errors, not fixed               36   16   16   16   16\nWords with no errors, mistakenly \"fixed\"   10   12   14   15   15",
      "text/html": "<div>\n<style scoped>\n    .dataframe tbody tr th:only-of-type {\n        vertical-align: middle;\n    }\n\n    .dataframe tbody tr th {\n        vertical-align: top;\n    }\n\n    .dataframe thead th {\n        text-align: right;\n    }\n</style>\n<table border=\"1\" class=\"dataframe\">\n  <thead>\n    <tr style=\"text-align: right;\">\n      <th></th>\n      <th>1</th>\n      <th>2</th>\n      <th>3</th>\n      <th>4</th>\n      <th>5</th>\n    </tr>\n  </thead>\n  <tbody>\n    <tr>\n      <th>Words with errors, fixed correctly</th>\n      <td>121</td>\n      <td>131</td>\n      <td>131</td>\n      <td>131</td>\n      <td>131</td>\n    </tr>\n    <tr>\n      <th>Words with errors, fixed incorrectly</th>\n      <td>57</td>\n      <td>67</td>\n      <td>67</td>\n      <td>67</td>\n      <td>67</td>\n    </tr>\n    <tr>\n      <th>Words with errors, not fixed</th>\n      <td>36</td>\n      <td>16</td>\n      <td>16</td>\n      <td>16</td>\n      <td>16</td>\n    </tr>\n    <tr>\n      <th>Words with no errors, mistakenly \"fixed\"</th>\n      <td>10</td>\n      <td>12</td>\n      <td>14</td>\n      <td>15</td>\n      <td>15</td>\n    </tr>\n  </tbody>\n</table>\n</div>"
     },
     "metadata": {},
     "output_type": "display_data"
    },
    {
     "name": "stdout",
     "output_type": "stream",
     "text": [
      "Jaro-Winkler:\n"
     ]
    },
    {
     "data": {
      "text/plain": "                                          0.95  0.90  0.85  0.80  0.75\nWords with errors, fixed correctly         116   137   138   138   138\nWords with errors, fixed incorrectly        46    58    60    60    60\nWords with errors, not fixed                52    19    16    16    16\nWords with no errors, mistakenly \"fixed\"     6    13    16    16    16",
      "text/html": "<div>\n<style scoped>\n    .dataframe tbody tr th:only-of-type {\n        vertical-align: middle;\n    }\n\n    .dataframe tbody tr th {\n        vertical-align: top;\n    }\n\n    .dataframe thead th {\n        text-align: right;\n    }\n</style>\n<table border=\"1\" class=\"dataframe\">\n  <thead>\n    <tr style=\"text-align: right;\">\n      <th></th>\n      <th>0.95</th>\n      <th>0.90</th>\n      <th>0.85</th>\n      <th>0.80</th>\n      <th>0.75</th>\n    </tr>\n  </thead>\n  <tbody>\n    <tr>\n      <th>Words with errors, fixed correctly</th>\n      <td>116</td>\n      <td>137</td>\n      <td>138</td>\n      <td>138</td>\n      <td>138</td>\n    </tr>\n    <tr>\n      <th>Words with errors, fixed incorrectly</th>\n      <td>46</td>\n      <td>58</td>\n      <td>60</td>\n      <td>60</td>\n      <td>60</td>\n    </tr>\n    <tr>\n      <th>Words with errors, not fixed</th>\n      <td>52</td>\n      <td>19</td>\n      <td>16</td>\n      <td>16</td>\n      <td>16</td>\n    </tr>\n    <tr>\n      <th>Words with no errors, mistakenly \"fixed\"</th>\n      <td>6</td>\n      <td>13</td>\n      <td>16</td>\n      <td>16</td>\n      <td>16</td>\n    </tr>\n  </tbody>\n</table>\n</div>"
     },
     "metadata": {},
     "output_type": "display_data"
    }
   ],
   "source": [
    "for text in range(1, 4):\n",
    "    with open(f\"original_texts/{text}_orig.txt\", mode=\"r\", encoding=\"utf-8\") as file:\n",
    "        text_orig = file.read()\n",
    "    with open(f\"../app/public/static/texts/{text}.txt\", mode=\"r\", encoding=\"utf-8\") as file:\n",
    "        text_with_errors = file.read()\n",
    "    doc_orig = stanza_tokenizer(text_orig)\n",
    "    doc_with_errors = stanza_tokenizer(text_with_errors)\n",
    "    \n",
    "    print(\n",
    "        f\"----------\\n\"\n",
    "        f\"Text {text}\\n\"\n",
    "        f\"Total words: {doc_orig.num_words}\\n\"\n",
    "        f\"Total words with errors: {get_total_words_with_errors(doc_orig, doc_with_errors)}\"\n",
    "    )\n",
    "\n",
    "    results_damerau = pd.DataFrame()\n",
    "    for damerau_distance in range(1, 6):\n",
    "        with open(\n",
    "            f\"texts_after_corrections/{text}/{text}_damerau_{damerau_distance}.txt\",\n",
    "            mode=\"r\",\n",
    "            encoding=\"utf-8\"\n",
    "        ) as file:\n",
    "            text_after_correction = file.read()\n",
    "        doc_after_correction = stanza_tokenizer(text_after_correction)\n",
    "        results_damerau[damerau_distance] = compare_docs(\n",
    "            doc_orig, doc_with_errors, doc_after_correction\n",
    "        )\n",
    "    print(\"Damerau-Levenshtein:\")\n",
    "    display(results_damerau)\n",
    "\n",
    "    results_jaro = pd.DataFrame()\n",
    "    for jaro_similarity in range(95, 74, -5):\n",
    "        with open(\n",
    "            f\"texts_after_corrections/{text}/{text}_jaro_{jaro_similarity}.txt\",\n",
    "            mode=\"r\",\n",
    "            encoding=\"utf-8\"\n",
    "        ) as file:\n",
    "            text_after_correction = file.read()\n",
    "        doc_after_correction = stanza_tokenizer(text_after_correction)\n",
    "        results_jaro[f\"0.{jaro_similarity}\"] = compare_docs(\n",
    "            doc_orig, doc_with_errors, doc_after_correction\n",
    "        )\n",
    "    print(\"Jaro-Winkler:\")\n",
    "    display(results_jaro)"
   ],
   "metadata": {
    "collapsed": false,
    "ExecuteTime": {
     "end_time": "2024-05-15T15:50:10.529085500Z",
     "start_time": "2024-05-15T15:50:04.024371800Z"
    }
   },
   "id": "9130598ba823d59"
  }
 ],
 "metadata": {
  "kernelspec": {
   "display_name": "Python 3",
   "language": "python",
   "name": "python3"
  },
  "language_info": {
   "codemirror_mode": {
    "name": "ipython",
    "version": 2
   },
   "file_extension": ".py",
   "mimetype": "text/x-python",
   "name": "python",
   "nbconvert_exporter": "python",
   "pygments_lexer": "ipython2",
   "version": "2.7.6"
  }
 },
 "nbformat": 4,
 "nbformat_minor": 5
}
