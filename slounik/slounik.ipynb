{
 "cells": [
  {
   "cell_type": "code",
   "execution_count": 1,
   "id": "initial_id",
   "metadata": {
    "collapsed": true,
    "ExecuteTime": {
     "end_time": "2024-05-13T12:04:12.690612700Z",
     "start_time": "2024-05-13T12:04:12.603877Z"
    }
   },
   "outputs": [],
   "source": [
    "import json\n",
    "import os\n",
    "\n",
    "from bs4 import BeautifulSoup"
   ]
  },
  {
   "cell_type": "code",
   "execution_count": 2,
   "outputs": [],
   "source": [
    "# https://github.com/Belarus/GrammarDB/releases\n",
    "DIR = \"grammar_db\"\n",
    "PROHIBITED_TYPES = [\"nonstandard\", \"potential\"]\n",
    "BEAUTIFUL_JSON = False"
   ],
   "metadata": {
    "collapsed": false,
    "ExecuteTime": {
     "end_time": "2024-05-13T12:04:12.699503400Z",
     "start_time": "2024-05-13T12:04:12.690612700Z"
    }
   },
   "id": "18436e68a628dc3f"
  },
  {
   "cell_type": "code",
   "execution_count": 3,
   "outputs": [
    {
     "name": "stdout",
     "output_type": "stream",
     "text": [
      "grammar_db\\A1.xml\n",
      "grammar_db\\A2.xml\n",
      "grammar_db\\C.xml\n",
      "grammar_db\\E.xml\n",
      "grammar_db\\I.xml\n",
      "grammar_db\\M.xml\n",
      "grammar_db\\N1.xml\n",
      "grammar_db\\N2.xml\n",
      "grammar_db\\N3.xml\n",
      "grammar_db\\NP.xml\n",
      "grammar_db\\P.xml\n",
      "grammar_db\\R.xml\n",
      "grammar_db\\S.xml\n",
      "grammar_db\\V.xml\n",
      "grammar_db\\W.xml\n",
      "grammar_db\\Y.xml\n",
      "grammar_db\\Z.xml\n"
     ]
    }
   ],
   "source": [
    "slounik = set()\n",
    "\n",
    "for filename in os.scandir(DIR):\n",
    "    if filename.is_file():\n",
    "        with open(filename.path, mode=\"r\", encoding=\"utf-8\") as file:\n",
    "            print(filename.path)\n",
    "            soup = BeautifulSoup(file, \"xml\")\n",
    "            \n",
    "            for paradigm in soup.Wordlist.find_all(\"Paradigm\"):\n",
    "                if \"type\" in paradigm.attrs and paradigm[\"type\"] in PROHIBITED_TYPES:\n",
    "                    continue\n",
    "                \n",
    "                for variant in paradigm.find_all(\"Variant\"):\n",
    "                    if \"type\" in variant.attrs and variant[\"type\"] in PROHIBITED_TYPES:\n",
    "                        continue\n",
    "                        \n",
    "                    for form in variant.find_all(\"Form\"):\n",
    "                        if \"type\" in form.attrs and form[\"type\"] in PROHIBITED_TYPES:\n",
    "                            continue\n",
    "                            \n",
    "                        form_str = form.string.replace(\"+\", \"\").lower()\n",
    "                        slounik.add(form_str)"
   ],
   "metadata": {
    "collapsed": false,
    "ExecuteTime": {
     "end_time": "2024-05-13T12:06:30.091279Z",
     "start_time": "2024-05-13T12:04:12.697428500Z"
    }
   },
   "id": "f31c48b82503694a"
  },
  {
   "cell_type": "code",
   "execution_count": 4,
   "outputs": [],
   "source": [
    "slounik_list = sorted(list(slounik))"
   ],
   "metadata": {
    "collapsed": false,
    "ExecuteTime": {
     "end_time": "2024-05-13T12:06:32.294246200Z",
     "start_time": "2024-05-13T12:06:30.087239800Z"
    }
   },
   "id": "7629770991447333"
  },
  {
   "cell_type": "code",
   "execution_count": 5,
   "outputs": [],
   "source": [
    "with open(\"slounik.json\", mode=\"w\", encoding=\"utf-8\") as file:\n",
    "    file.write(\n",
    "        json.dumps(slounik_list, ensure_ascii=False, indent=4 if BEAUTIFUL_JSON else None)\n",
    "    )"
   ],
   "metadata": {
    "collapsed": false,
    "ExecuteTime": {
     "end_time": "2024-05-13T12:06:32.805118600Z",
     "start_time": "2024-05-13T12:06:32.297412900Z"
    }
   },
   "id": "48b038c29979ae2f"
  }
 ],
 "metadata": {
  "kernelspec": {
   "display_name": "Python 3",
   "language": "python",
   "name": "python3"
  },
  "language_info": {
   "codemirror_mode": {
    "name": "ipython",
    "version": 2
   },
   "file_extension": ".py",
   "mimetype": "text/x-python",
   "name": "python",
   "nbconvert_exporter": "python",
   "pygments_lexer": "ipython2",
   "version": "2.7.6"
  }
 },
 "nbformat": 4,
 "nbformat_minor": 5
}
